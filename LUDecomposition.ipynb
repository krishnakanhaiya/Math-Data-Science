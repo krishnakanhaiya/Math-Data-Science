{
 "cells": [
  {
   "cell_type": "code",
   "execution_count": 1,
   "metadata": {},
   "outputs": [],
   "source": [
    "import numpy as np\n",
    "from scipy.linalg import lu, lu_factor, lu_solve\n",
    "from time import time"
   ]
  },
  {
   "cell_type": "markdown",
   "metadata": {},
   "source": [
    "We'll start with a system of linear equations in matrix form ($Ax = b$).  As a concrete example,\n",
    "\n",
    "$$\n",
    "\\left(\n",
    "\\begin{array}{llll}\n",
    "4 & -2 & -3 &  1 \\\\\n",
    "1 & 3 & 1 & 3 \\\\\n",
    "1 & 2 & -1 & -2 \\\\\n",
    "2 & 1 & -1 &-1\n",
    "\\end{array}\n",
    "\\right)\\left(\n",
    "\\begin{array}{l}\n",
    "x_1 \\\\\n",
    "x_2 \\\\\n",
    "x_3 \\\\\n",
    "x_4\n",
    "\\end{array}\n",
    "\\right)=\\left(\n",
    "\\begin{array}{l}\n",
    "20 \\\\\n",
    "14 \\\\\n",
    "3 \\\\\n",
    "9\n",
    "\\end{array}\n",
    "\\right)\n",
    "$$\n",
    "\n",
    "LU decomposition facturs a matrix $A$ into the product of two other matrices $A = LU$\n",
    "\n",
    "$$\n",
    "\\left(\n",
    "\\begin{array}{llll}\n",
    "4 & -2 & -3 &  1 \\\\\n",
    "1 & 3 & 1 & 3 \\\\\n",
    "1 & 2 & -1 & -2 \\\\\n",
    "2 & 1 & -1 &-1\n",
    "\\end{array}\n",
    "\\right)\n",
    "=\n",
    "\\left(\n",
    "    \\begin{array}{llll}\n",
    "        1     &     0   &        0   &      0 \\\\\n",
    "        0.25  &     1   &        0   &      0 \\\\\n",
    "        0.25  &     0.71428571 & 1   &      0 \\\\\n",
    "        0.5   &     0.57142857 & 0.33333333& 1\n",
    "    \\end{array}\n",
    "\\right) \\left(\n",
    "\\begin{array}{llll}\n",
    "4    &     -2.    &     -3     &      1          \\\\\n",
    "0    &      3.5   &      1.75  &      2.75       \\\\\n",
    "0    &      0     &     -1.5   &     -4.21428571 \\\\\n",
    "0    &      0     &      0     &     -1.66666667\n",
    "\\end{array}\n",
    "\\right)\n",
    "$$"
   ]
  },
  {
   "cell_type": "markdown",
   "metadata": {},
   "source": [
    "Our equation is now,\n",
    "\n",
    "$$\n",
    "\\left(\n",
    "    \\begin{array}{llll}\n",
    "        1     &     0   &        0   &      0 \\\\\n",
    "        0.25  &     1   &        0   &      0 \\\\\n",
    "        0.25  &     0.71428571 & 1   &      0 \\\\\n",
    "        0.5   &     0.57142857 & 0.33333333& 1\n",
    "    \\end{array}\n",
    "\\right) \\underbrace{ \\left(\n",
    "\\begin{array}{llll}\n",
    "4    &     -2.    &     -3     &      1          \\\\\n",
    "0    &      3.5   &      1.75  &      2.75       \\\\\n",
    "0    &      0     &     -1.5   &     -4.21428571 \\\\\n",
    "0    &      0     &      0     &     -1.66666667\n",
    "\\end{array}\n",
    "\\right)\n",
    "\\left(\n",
    "\\begin{array}{l}\n",
    "x_1 \\\\\n",
    "x_2 \\\\\n",
    "x_3 \\\\\n",
    "x_4\n",
    "\\end{array}\n",
    "\\right)}_\\tilde{x} =\\left(\n",
    "\\begin{array}{l}\n",
    "20 \\\\\n",
    "14 \\\\\n",
    "3 \\\\\n",
    "9\n",
    "\\end{array}\n",
    "\\right)\n",
    "$$\n",
    "\n",
    "After making that substitution, we have\n",
    "\n",
    "$$\n",
    "\\left(\n",
    "    \\begin{array}{llll}\n",
    "        1     &     0   &        0   &      0 \\\\\n",
    "        0.25  &     1   &        0   &      0 \\\\\n",
    "        0.25  &     0.71428571 & 1   &      0 \\\\\n",
    "        0.5   &     0.57142857 & 0.33333333& 1\n",
    "    \\end{array}\n",
    "\\right)\n",
    "\\left(\n",
    "\\begin{array}{l}\n",
    "\\tilde{x_1} \\\\\n",
    "\\tilde{x_2} \\\\\n",
    "\\tilde{x_3} \\\\\n",
    "\\tilde{x_4}\n",
    "\\end{array}\n",
    "\\right) = \n",
    "\\left(\n",
    "\\begin{array}{l}\n",
    "20 \\\\\n",
    "14 \\\\\n",
    "3 \\\\\n",
    "9\n",
    "\\end{array}\n",
    "\\right)\n",
    "$$\n",
    "\n",
    "Which we can solve for $\\tilde{x}$ by forward substitution.\n",
    "\n",
    "Finally, we can solve for our unknown $x$ using the dfinition of $\\tilde{x}$ and using backward substitution.\n",
    "$$\n",
    "\\left(\n",
    "\\begin{array}{llll}\n",
    "4    &     -2.    &     -3     &      1          \\\\\n",
    "0    &      3.5   &      1.75  &      2.75       \\\\\n",
    "0    &      0     &     -1.5   &     -4.21428571 \\\\\n",
    "0    &      0     &      0     &     -1.66666667\n",
    "\\end{array}\n",
    "\\right)\n",
    "\\left(\n",
    "\\begin{array}{l}\n",
    "x_1 \\\\\n",
    "x_2 \\\\\n",
    "x_3 \\\\\n",
    "x_4\n",
    "\\end{array}\n",
    "\\right) = \n",
    "\\left(\n",
    "\\begin{array}{l}\n",
    "\\tilde{x_1} \\\\\n",
    "\\tilde{x_2} \\\\\n",
    "\\tilde{x_3} \\\\\n",
    "\\tilde{x_4}\n",
    "\\end{array}\n",
    "\\right) \n",
    "$$"
   ]
  },
  {
   "cell_type": "code",
   "execution_count": 2,
   "metadata": {},
   "outputs": [
    {
     "name": "stdout",
     "output_type": "stream",
     "text": [
      "The L matrix is:\n",
      "[[1.         0.         0.         0.        ]\n",
      " [0.25       1.         0.         0.        ]\n",
      " [0.25       0.71428571 1.         0.        ]\n",
      " [0.5        0.57142857 0.33333333 1.        ]]\n",
      "\n",
      "The U matrix is:\n",
      "[[ 4.         -2.         -3.          1.        ]\n",
      " [ 0.          3.5         1.75        2.75      ]\n",
      " [ 0.          0.         -1.5        -4.21428571]\n",
      " [ 0.          0.          0.         -1.66666667]]\n"
     ]
    },
    {
     "data": {
      "text/plain": [
       "True"
      ]
     },
     "execution_count": 2,
     "metadata": {},
     "output_type": "execute_result"
    }
   ],
   "source": [
    "#  Define a system of linear equations. A  is the coefficient matrix and b is the vector of knowns\n",
    "#  We are using the same matrix as above\n",
    "A = np.array( [ [4,-2,-3,1], [1,3,1,3], [1, 2, -1, -2], [2,1,-1,-1] ])\n",
    "b = np.array([20, 14, 3, 9]); b.shape = (4, 1)\n",
    "\n",
    "#  Do the matrix factorization.  In our case, the permutation matrix P is the identity\n",
    "P, L, U = lu(A)\n",
    "\n",
    "print('The L matrix is:')\n",
    "print(L)\n",
    "print()\n",
    "print('The U matrix is:')\n",
    "print(U)\n",
    "\n",
    "#  Show the A = PLA\n",
    "np.allclose(L @ U, A)"
   ]
  },
  {
   "cell_type": "markdown",
   "metadata": {},
   "source": [
    "We can solve the system of equations with LU decomposition via the lu_factor and lu_solve commands"
   ]
  },
  {
   "cell_type": "code",
   "execution_count": 5,
   "metadata": {},
   "outputs": [
    {
     "name": "stdout",
     "output_type": "stream",
     "text": [
      "[[ 5.0000000e+00]\n",
      " [ 1.0000000e+00]\n",
      " [-2.4319171e-15]\n",
      " [ 2.0000000e+00]]\n"
     ]
    },
    {
     "data": {
      "text/plain": [
       "True"
      ]
     },
     "execution_count": 5,
     "metadata": {},
     "output_type": "execute_result"
    }
   ],
   "source": [
    "#  Do the factorization\n",
    "LU, p = lu_factor(A)\n",
    "\n",
    "#  Solve the system\n",
    "x1 = lu_solve((LU, p), b)\n",
    "print(x1)\n",
    "\n",
    "#  Does this give the same results as linalg.solve?\n",
    "np.allclose(x1, np.linalg.solve(A, b))"
   ]
  },
  {
   "cell_type": "markdown",
   "metadata": {},
   "source": [
    "If we have cases where the coefficient matrix $A$ is always the same, and we have differnt values of $b$, we can get a significant performance enhancement using LU decomposition over the normal solve command.\n",
    "\n",
    "Below, we generate a lunear system with 500 unknowns and repeatedly solve it using solve and lu_solve to show the speed difference.\n",
    "\n",
    "We will solve the system 10000 time each."
   ]
  },
  {
   "cell_type": "code",
   "execution_count": 6,
   "metadata": {},
   "outputs": [],
   "source": [
    "#  Set a constant seed so we can reproduce our results\n",
    "np.random.seed(2)\n",
    "\n",
    "#  Set number of equations\n",
    "N = 500\n",
    "\n",
    "#  Generate A matrix\n",
    "A = np.random.normal( size = (N, N) )\n",
    "\n",
    "#  make b vector\n",
    "b = np.random.normal( size = (N, ))"
   ]
  },
  {
   "cell_type": "markdown",
   "metadata": {},
   "source": [
    "###  Solve via linalg.solve"
   ]
  },
  {
   "cell_type": "code",
   "execution_count": 7,
   "metadata": {},
   "outputs": [
    {
     "name": "stdout",
     "output_type": "stream",
     "text": [
      "Time =  24.728508472442627\n"
     ]
    }
   ],
   "source": [
    "start = time()\n",
    "for i in range(10000):\n",
    "    x1 = np.linalg.solve(A, b)\n",
    "print('Time = ', time() - start)"
   ]
  },
  {
   "cell_type": "markdown",
   "metadata": {},
   "source": [
    "###  Solve via lu_solve"
   ]
  },
  {
   "cell_type": "code",
   "execution_count": 8,
   "metadata": {},
   "outputs": [
    {
     "name": "stdout",
     "output_type": "stream",
     "text": [
      "Time =  0.9258191585540771\n"
     ]
    }
   ],
   "source": [
    "start = time()\n",
    "\n",
    "lu, piv = lu_factor(A)\n",
    "for i in range(10000):\n",
    "    x2 = lu_solve((lu, piv), b)\n",
    "\n",
    "print('Time = ', time() - start)"
   ]
  },
  {
   "cell_type": "code",
   "execution_count": 27,
   "metadata": {},
   "outputs": [
    {
     "data": {
      "text/plain": [
       "True"
      ]
     },
     "execution_count": 27,
     "metadata": {},
     "output_type": "execute_result"
    }
   ],
   "source": [
    "#  let's make sure the answers from solve and lu_solve are the same.\n",
    "np.allclose(x1, x2)"
   ]
  },
  {
   "cell_type": "code",
   "execution_count": null,
   "metadata": {},
   "outputs": [],
   "source": []
  }
 ],
 "metadata": {
  "kernelspec": {
   "display_name": "Python 3",
   "language": "python",
   "name": "python3"
  },
  "language_info": {
   "codemirror_mode": {
    "name": "ipython",
    "version": 3
   },
   "file_extension": ".py",
   "mimetype": "text/x-python",
   "name": "python",
   "nbconvert_exporter": "python",
   "pygments_lexer": "ipython3",
   "version": "3.7.1"
  }
 },
 "nbformat": 4,
 "nbformat_minor": 2
}
