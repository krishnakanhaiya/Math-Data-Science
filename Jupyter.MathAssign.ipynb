{
 "cells": [
  {
   "cell_type": "code",
   "execution_count": 1,
   "id": "11213b63",
   "metadata": {
    "scrolled": true
   },
   "outputs": [
    {
     "name": "stdout",
     "output_type": "stream",
     "text": [
      "Defaulting to user installation because normal site-packages is not writeable\n",
      "Requirement already satisfied: sympy in /home/kk/.local/lib/python3.10/site-packages (1.11.1)\n",
      "Requirement already satisfied: mpmath>=0.19 in /home/kk/.local/lib/python3.10/site-packages (from sympy) (1.2.1)\n"
     ]
    }
   ],
   "source": [
    "import numpy as np\n",
    "import pandas as pd\n",
    "! pip install sympy\n",
    "from sympy import *\n",
    "from scipy.linalg import lu "
   ]
  },
  {
   "cell_type": "markdown",
   "id": "3fad4d3a",
   "metadata": {},
   "source": [
    "# a. Read a matrix A from a csv file and a vector b from another csv file "
   ]
  },
  {
   "cell_type": "code",
   "execution_count": 9,
   "id": "7d34d721",
   "metadata": {},
   "outputs": [
    {
     "name": "stdout",
     "output_type": "stream",
     "text": [
      "A:---------------\n",
      "   1  2   3\n",
      "0  8  3  -2\n",
      "1 -4  7   5\n",
      "2  3  4 -12\n",
      "b:---------------\n",
      "    0\n",
      "0   9\n",
      "1  15\n",
      "2  35\n"
     ]
    }
   ],
   "source": [
    "#matrix=pd.read_csv('/home/kk/Documents/Matrix.csv')\n",
    "A=pd.read_csv(\"/home/kk/Documents/A.csv\")\n",
    "b=pd.read_csv(\"/home/kk/Documents/b.csv\")\n",
    "#print(\"matrix:---------------\")\n",
    "#print(matrix)\n",
    "print(\"A:---------------\")\n",
    "print(A)\n",
    "print(\"b:---------------\")\n",
    "print(b)"
   ]
  },
  {
   "cell_type": "markdown",
   "id": "7fec2166",
   "metadata": {},
   "source": [
    "# b. Perform LU decomposition for square matrix"
   ]
  },
  {
   "cell_type": "code",
   "execution_count": 7,
   "id": "625eaa2e",
   "metadata": {},
   "outputs": [
    {
     "name": "stdout",
     "output_type": "stream",
     "text": [
      "The L matrix is:\n",
      "[[ 1.          0.          0.        ]\n",
      " [-0.5         1.          0.        ]\n",
      " [ 0.375       0.33823529  1.        ]]\n",
      "\n",
      "The U matrix is:\n",
      "[[  8.           3.          -2.        ]\n",
      " [  0.           8.5          4.        ]\n",
      " [  0.           0.         -12.60294118]]\n",
      "A: [[  8.   3.  -2.]\n",
      " [ -4.   7.   5.]\n",
      " [  3.   4. -12.]]\n"
     ]
    }
   ],
   "source": [
    "#  Do the matrix factorization.  In our case, the permutation matrix P is the identity\n",
    "P, L, U = lu(A)\n",
    "print('The L matrix is:')\n",
    "print(L)\n",
    "print()\n",
    "print('The U matrix is:')\n",
    "print(U)\n",
    "\n",
    "#  Show the A = PLA\n",
    "res=np.dot(P,L)\n",
    "a=np.dot(res,U)\n",
    "print(\"A:\", a)\n"
   ]
  },
  {
   "cell_type": "markdown",
   "id": "eae42b9e",
   "metadata": {},
   "source": [
    "#   c.Solve the equation Ax=b "
   ]
  },
  {
   "cell_type": "code",
   "execution_count": 10,
   "id": "3d91539e",
   "metadata": {},
   "outputs": [
    {
     "name": "stdout",
     "output_type": "stream",
     "text": [
      "A: [[  8   3  -2]\n",
      " [ -4   7   5]\n",
      " [  3   4 -12]]\n",
      "--------------------\n",
      "b: [[ 9]\n",
      " [15]\n",
      " [35]]\n",
      "--------------------\n",
      "X: [[-0.58226371]\n",
      " [ 3.22870478]\n",
      " [-1.98599767]]\n"
     ]
    }
   ],
   "source": [
    "A=np.array(A)\n",
    "b=np.array(b)\n",
    "print(\"A:\", A)\n",
    "print(\"--------------------\")\n",
    "print(\"b:\",b)\n",
    "print(\"--------------------\")\n",
    "\n",
    "#solve the AX=b equation\n",
    "x = np.linalg.solve(A, b)\n",
    "print(\"X:\",x)"
   ]
  },
  {
   "cell_type": "markdown",
   "id": "313d421e",
   "metadata": {},
   "source": [
    "#   d.Do the diagonalization of a matrix (assume it is symmetric)"
   ]
  },
  {
   "cell_type": "code",
   "execution_count": 11,
   "id": "9e36adff",
   "metadata": {},
   "outputs": [
    {
     "name": "stdout",
     "output_type": "stream",
     "text": [
      "Matrix([[4, 1, -1], [2, 5, -2], [1, 1, 2]])\n",
      "Matrix([[3, 0, 0], [0, 3, 0], [0, 0, 5]])\n"
     ]
    }
   ],
   "source": [
    "#diagonilization of a matrix\n",
    "M=Matrix(mat)\n",
    "print(M)\n",
    "P, D = M.diagonalize()  \n",
    "print(D)"
   ]
  },
  {
   "cell_type": "markdown",
   "id": "a55930e9",
   "metadata": {},
   "source": [
    "# e. Give exponential, sine and sigmoid functions on A"
   ]
  },
  {
   "cell_type": "code",
   "execution_count": 36,
   "id": "5d5ca099",
   "metadata": {},
   "outputs": [
    {
     "name": "stdout",
     "output_type": "stream",
     "text": [
      "sigmoid function----------\n",
      "[[9.99664650e-01 9.52574127e-01 1.19202922e-01]\n",
      " [1.79862100e-02 9.99088949e-01 9.93307149e-01]\n",
      " [9.52574127e-01 9.82013790e-01 6.14417460e-06]]\n",
      "exponential function----------\n",
      "[[2.98095799e+03 2.00855369e+01 1.35335283e-01]\n",
      " [1.83156389e-02 1.09663316e+03 1.48413159e+02]\n",
      " [2.00855369e+01 5.45981500e+01 6.14421235e-06]]\n",
      "sign function----------\n",
      "[[ 1  1 -1]\n",
      " [-1  1  1]\n",
      " [ 1  1 -1]]\n"
     ]
    }
   ],
   "source": [
    "def sigmoid(x):\n",
    "    return(1/(1 + np.exp(-x)))\n",
    "def exponenstial(x):\n",
    "    return np.exp(x)\n",
    "def sinfun(x):\n",
    "    return np.sign(x)\n",
    "\n",
    "sig=[sigmoid(i) for i in A]\n",
    "expo=[exponenstial(i) for i in A]\n",
    "sinf=[sinfun(i) for i in A]\n",
    "print(\"sigmoid function----------\")\n",
    "print(np.array(sig))\n",
    "print(\"exponential function----------\")\n",
    "print(np.array(expo))\n",
    "print(\"sign function----------\")\n",
    "print(np.array(sinf))"
   ]
  },
  {
   "cell_type": "markdown",
   "id": "11d6c346",
   "metadata": {},
   "source": [
    "# f.Find all the eigenpairs of A"
   ]
  },
  {
   "cell_type": "code",
   "execution_count": 12,
   "id": "b7cf9ac2",
   "metadata": {},
   "outputs": [
    {
     "name": "stdout",
     "output_type": "stream",
     "text": [
      " Eigen Values are [5. 3. 3.]\n",
      "Eigen Vactors are [[ 0.40824829  0.40824829  0.20788451]\n",
      " [ 0.81649658 -0.81649658  0.57986183]\n",
      " [ 0.40824829 -0.40824829  0.78774634]]\n"
     ]
    }
   ],
   "source": [
    "#calculate eigenpairs\n",
    "valus,vectors=np.linalg.eig(mat)\n",
    "print(\" Eigen Values are\", valus)\n",
    "print(\"Eigen Vactors are\",vectors)"
   ]
  },
  {
   "cell_type": "code",
   "execution_count": null,
   "id": "280c351c",
   "metadata": {},
   "outputs": [],
   "source": []
  }
 ],
 "metadata": {
  "kernelspec": {
   "display_name": "Python 3 (ipykernel)",
   "language": "python",
   "name": "python3"
  },
  "language_info": {
   "codemirror_mode": {
    "name": "ipython",
    "version": 3
   },
   "file_extension": ".py",
   "mimetype": "text/x-python",
   "name": "python",
   "nbconvert_exporter": "python",
   "pygments_lexer": "ipython3",
   "version": "3.10.6"
  }
 },
 "nbformat": 4,
 "nbformat_minor": 5
}
